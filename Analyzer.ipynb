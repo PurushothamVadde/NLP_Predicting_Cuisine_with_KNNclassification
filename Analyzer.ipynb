{
 "cells": [
  {
   "cell_type": "code",
   "execution_count": 1,
   "metadata": {},
   "outputs": [],
   "source": [
    "import json\n",
    "import string\n",
    "import re\n",
    "import pandas as pd\n",
    "import numpy as np\n",
    "from sklearn.metrics import accuracy_score\n",
    "from sklearn.model_selection import train_test_split\n",
    "from nltk.corpus import stopwords\n",
    "from sklearn.feature_extraction.text import TfidfVectorizer\n",
    "from nltk.tokenize import word_tokenize, sent_tokenize\n",
    "from sklearn import preprocessing\n",
    "from sklearn.neighbors import KNeighborsClassifier\n",
    "from sklearn.ensemble import RandomForestClassifier\n",
    "from sklearn import metrics\n",
    "from sklearn.metrics.pairwise import cosine_similarity\n",
    "from nltk.util import flatten"
   ]
  },
  {
   "cell_type": "code",
   "execution_count": 2,
   "metadata": {},
   "outputs": [],
   "source": [
    "json_file = \"yummly.json\"\n",
    "\n",
    "input_list = ['paprika', 'banana','rice krispies','plain flour', 'ground pepper', 'salt', 'tomatoes']\n",
    "Input_matrix = []\n",
    "\n",
    "def Reading_jsondata(json_file ):\n",
    "    with open(json_file) as file:\n",
    "        Temp_data = json.load(file)\n",
    "    data_frame = pd.DataFrame(Temp_data)\n",
    "    return  data_frame"
   ]
  },
  {
   "cell_type": "code",
   "execution_count": 3,
   "metadata": {},
   "outputs": [],
   "source": [
    "def Text_Normalization(data_frame,input_list):\n",
    "    # print(input_list)\n",
    "    list_for_matrix = []\n",
    "    for i in range(len(data_frame['ingredients'])):\n",
    "        text = \" \".join(data_frame['ingredients'][i])\n",
    "        text = text.lower()\n",
    "        text = text.strip()\n",
    "        text = \"\".join([char for char in text if char not in string.punctuation])\n",
    "        text = re.sub(\"r(\\d)\",\"\", text)\n",
    "        text = re.sub(r'\\(.*?\\)', '', text)\n",
    "        tokens = word_tokenize(text)\n",
    "        list_for_matrix.append(\" \".join(tokens))\n",
    "    input_list = \" \".join(input_list)\n",
    "    list_for_matrix.insert(0,input_list)\n",
    "    return list_for_matrix"
   ]
  },
  {
   "cell_type": "code",
   "execution_count": 4,
   "metadata": {},
   "outputs": [],
   "source": [
    "\n",
    "def Vectorizer (Normalized_data):\n",
    "    vectorizer = TfidfVectorizer(stop_words='english')\n",
    "    matrix = vectorizer.fit_transform(Normalized_data)\n",
    "    Input_matrix = matrix[0]\n",
    "    new_matrix = matrix[1:]\n",
    "    return new_matrix,Input_matrix"
   ]
  },
  {
   "cell_type": "code",
   "execution_count": 5,
   "metadata": {},
   "outputs": [],
   "source": [
    "def Finging_Kneighbors(X,dataframe):\n",
    "    LabelEncoder = preprocessing.LabelEncoder()\n",
    "    LabelEncoder.fit(dataframe['cuisine'])\n",
    "    Y = LabelEncoder.transform(dataframe['cuisine'])\n",
    "    score_list = []\n",
    "    X_train, X_test, Y_train, Y_test = train_test_split(X, Y, train_size=0.7, test_size=0.3, random_state=100)\n",
    "    for neighbors in range(25):\n",
    "        K_neighbors = neighbors + 1\n",
    "        KNN_model = KNeighborsClassifier(n_neighbors=K_neighbors, weights='uniform', algorithm=\"auto\")\n",
    "        KNN_model.fit(X_train, Y_train)\n",
    "        Y_prediction = KNN_model.predict(X_test)\n",
    "        score = metrics.accuracy_score(Y_test, Y_prediction)\n",
    "        score_list.append (score)\n",
    "        print(\"Accuracy score  \", score, \"% for K Neighbors-Value:\", K_neighbors)\n",
    "    # print(score_list)\n",
    "    Kneighbors = score_list.index(max(score_list))\n",
    "    print(\"The number of neighbors with good accuracy score is :\", Kneighbors+1 )\n",
    "    return Kneighbors"
   ]
  },
  {
   "cell_type": "code",
   "execution_count": 6,
   "metadata": {},
   "outputs": [],
   "source": [
    "def KNN_Classification_Model(X,dataframe,Input_matrix,Kneighbors):\n",
    "    LabelEncoder = preprocessing.LabelEncoder()\n",
    "    LabelEncoder.fit(dataframe['cuisine'])\n",
    "    Y = LabelEncoder.transform(dataframe['cuisine'])\n",
    "\n",
    "    X_train, X_test, Y_train, Y_test = train_test_split(X, Y, train_size=0.7, test_size=0.3, random_state=100)\n",
    "    KNN_model = KNeighborsClassifier(n_neighbors=Kneighbors, weights='uniform', algorithm=\"auto\")\n",
    "    KNN_model.fit(X_train, Y_train)\n",
    "    Y_prediction = KNN_model.predict(Input_matrix)\n",
    "    predicted_cuisine = LabelEncoder.inverse_transform(Y_prediction)\n",
    "    cosine_score = cosine_similarity(Input_matrix, X)\n",
    "    Cuisine_score = cosine_score.tolist()\n",
    "    Cuisine_score= flatten(Cuisine_score)\n",
    "    print(\"predicted_cuisine :\",predicted_cuisine )\n",
    "    dataframe['Cuisine_score'] = Cuisine_score\n",
    "    # print( dataframe['Cuisine_score'])\n",
    "    DataFrame = dataframe.sort_values(by ='Cuisine_score',ascending=False)\n",
    "    Nearest_cuisine = DataFrame[['id', 'Cuisine_score']].head(Kneighbors)\n",
    "    print(\"The closest 5 Recipie\")\n",
    "    print(Nearest_cuisine)\n",
    "\n",
    "    return 0"
   ]
  },
  {
   "cell_type": "code",
   "execution_count": 7,
   "metadata": {},
   "outputs": [
    {
     "name": "stdout",
     "output_type": "stream",
     "text": [
      "Accuracy score   0.6897678706109109 % for K Neighbors-Value: 1\n",
      "Accuracy score   0.6699907818654153 % for K Neighbors-Value: 2\n",
      "Accuracy score   0.7086231458979301 % for K Neighbors-Value: 3\n",
      "Accuracy score   0.7224503477750776 % for K Neighbors-Value: 4\n",
      "Accuracy score   0.7294058493254002 % for K Neighbors-Value: 5\n",
      "Accuracy score   0.7322550909243275 % for K Neighbors-Value: 6\n",
      "Accuracy score   0.7346853264057656 % for K Neighbors-Value: 7\n",
      "Accuracy score   0.7366965557697143 % for K Neighbors-Value: 8\n",
      "Accuracy score   0.738707785133663 % for K Neighbors-Value: 9\n",
      "Accuracy score   0.7369479594402079 % for K Neighbors-Value: 10\n",
      "Accuracy score   0.7369479594402079 % for K Neighbors-Value: 11\n",
      "Accuracy score   0.7418922316265818 % for K Neighbors-Value: 12\n",
      "Accuracy score   0.7434006536495433 % for K Neighbors-Value: 13\n",
      "Accuracy score   0.7425626414145646 % for K Neighbors-Value: 14\n",
      "Accuracy score   0.7421436352970754 % for K Neighbors-Value: 15\n",
      "Accuracy score   0.7428978463085562 % for K Neighbors-Value: 16\n",
      "Accuracy score   0.7424788401910668 % for K Neighbors-Value: 17\n",
      "Accuracy score   0.7410542193916031 % for K Neighbors-Value: 18\n",
      "Accuracy score   0.7397133998156373 % for K Neighbors-Value: 19\n",
      "Accuracy score   0.7418922316265818 % for K Neighbors-Value: 20\n",
      "Accuracy score   0.7403838096036202 % for K Neighbors-Value: 21\n",
      "Accuracy score   0.7390429900276544 % for K Neighbors-Value: 22\n",
      "Accuracy score   0.7407190144976117 % for K Neighbors-Value: 23\n",
      "Accuracy score   0.7410542193916031 % for K Neighbors-Value: 24\n",
      "Accuracy score   0.7413894242855946 % for K Neighbors-Value: 25\n",
      "The number of neighbors with good accuracy score is : 13\n",
      "predicted_cuisine : ['vietnamese']\n",
      "The closest 5 Recipie\n",
      "          id  Cuisine_score\n",
      "18138   9944       0.405543\n",
      "28497   8498       0.404329\n",
      "3180   49233       0.352452\n",
      "32001  13474       0.352272\n",
      "37987  30333       0.348394\n",
      "13011  30881       0.333533\n",
      "20750  18184       0.332848\n",
      "22917  47160       0.323968\n",
      "19220  40583       0.318493\n",
      "12759  44122       0.303394\n",
      "4927   20626       0.301702\n",
      "21914  38606       0.299897\n"
     ]
    },
    {
     "data": {
      "text/plain": [
       "0"
      ]
     },
     "execution_count": 7,
     "metadata": {},
     "output_type": "execute_result"
    }
   ],
   "source": [
    "dataframe = (Reading_jsondata(json_file))\n",
    "Normalized_data = Text_Normalization(dataframe,input_list)\n",
    "X = Vectorizer (Normalized_data)[0]\n",
    "Input_matrix = Vectorizer (Normalized_data)[1]\n",
    "Kneighbors = Finging_Kneighbors(X,dataframe)\n",
    "KNN_Classification_Model(X,dataframe,Input_matrix,Kneighbors)"
   ]
  },
  {
   "cell_type": "markdown",
   "metadata": {},
   "source": []
  }
 ],
 "metadata": {
  "kernelspec": {
   "display_name": "Python 3",
   "language": "python",
   "name": "python3"
  },
  "language_info": {
   "codemirror_mode": {
    "name": "ipython",
    "version": 3
   },
   "file_extension": ".py",
   "mimetype": "text/x-python",
   "name": "python",
   "nbconvert_exporter": "python",
   "pygments_lexer": "ipython3",
   "version": "3.7.3"
  }
 },
 "nbformat": 4,
 "nbformat_minor": 2
}
